{
  "cells": [
    {
      "cell_type": "markdown",
      "metadata": {
        "colab_type": "text",
        "id": "view-in-github"
      },
      "source": [
        "<a href=\"https://colab.research.google.com/github/jonkrohn/ML-foundations/blob/master/notebooks/artificial-neurons.ipynb\" target=\"_parent\"><img src=\"https://colab.research.google.com/assets/colab-badge.svg\" alt=\"Open In Colab\"/></a>"
      ]
    },
    {
      "cell_type": "markdown",
      "metadata": {
        "colab_type": "text",
        "id": "wvAIp_JlhU8Y"
      },
      "source": [
        "# Artificial Neuron Layer"
      ]
    },
    {
      "cell_type": "markdown",
      "metadata": {
        "colab_type": "text",
        "id": "XqExxAQlhU8Z"
      },
      "source": [
        "In this notebook, we use PyTorch tensors to create a layer of artificial neurons that could be used within a deep learning model architecture."
      ]
    },
    {
      "cell_type": "code",
      "execution_count": 1,
      "metadata": {
        "colab": {},
        "colab_type": "code",
        "id": "t3ZJ9KhVhU8a"
      },
      "outputs": [],
      "source": [
        "import torch\n",
        "import matplotlib.pyplot as plt\n",
        "import seaborn as sns\n",
        "\n",
        "sns.set_style('whitegrid')"
      ]
    },
    {
      "cell_type": "code",
      "execution_count": 2,
      "metadata": {
        "colab": {},
        "colab_type": "code",
        "id": "OX15SB16hU8d"
      },
      "outputs": [],
      "source": [
        "_ = torch.manual_seed(42)"
      ]
    },
    {
      "cell_type": "markdown",
      "metadata": {
        "colab_type": "text",
        "id": "oU8z-VtUhU8g"
      },
      "source": [
        "Set number of neurons: "
      ]
    },
    {
      "cell_type": "code",
      "execution_count": 3,
      "metadata": {
        "colab": {},
        "colab_type": "code",
        "id": "fUyNsPPuhU8g"
      },
      "outputs": [],
      "source": [
        "n_input = 784 # Flattened 28x28-pixel image\n",
        "n_dense = 128"
      ]
    },
    {
      "cell_type": "markdown",
      "metadata": {
        "colab_type": "text",
        "id": "lEfHqjdthU8i"
      },
      "source": [
        "Simulate an \"input image\" with a vector tensor `x`: "
      ]
    },
    {
      "cell_type": "code",
      "execution_count": 4,
      "metadata": {
        "colab": {},
        "colab_type": "code",
        "id": "L_fDjA4nhU8j"
      },
      "outputs": [],
      "source": [
        "x = torch.rand(n_input) # Samples float values from [0,1) uniform distribution (interval doesn't include 1)"
      ]
    },
    {
      "cell_type": "code",
      "execution_count": 10,
      "metadata": {
        "colab": {},
        "colab_type": "code",
        "id": "fMquDxtzhU8m",
        "outputId": "46d3a7be-8108-4f9c-e63b-84dce3831d87"
      },
      "outputs": [
        {
          "data": {
            "text/plain": [
              "torch.Size([784])"
            ]
          },
          "execution_count": 10,
          "metadata": {},
          "output_type": "execute_result"
        }
      ],
      "source": [
        "x.shape"
      ]
    },
    {
      "cell_type": "code",
      "execution_count": 11,
      "metadata": {
        "colab": {},
        "colab_type": "code",
        "id": "ECeWngtshU8p",
        "outputId": "a2ac3bbc-c545-4ce8-ce32-81bfae659327"
      },
      "outputs": [
        {
          "data": {
            "text/plain": [
              "tensor([0.8823, 0.9150, 0.3829, 0.9593, 0.3904, 0.6009])"
            ]
          },
          "execution_count": 11,
          "metadata": {},
          "output_type": "execute_result"
        }
      ],
      "source": [
        "x[0:6]"
      ]
    },
    {
      "cell_type": "code",
      "execution_count": 12,
      "metadata": {
        "colab": {},
        "colab_type": "code",
        "id": "Po1ffSeohU8s",
        "outputId": "d563e272-50b8-4176-d228-806fa836ee6d"
      },
      "outputs": [
        {
          "data": {
            "image/png": "[encoded data removed]",
            "text/plain": [
              "<Figure size 640x480 with 1 Axes>"
            ]
          },
          "metadata": {},
          "output_type": "display_data"
        }
      ],
      "source": [
        "_ = plt.hist(x)"
      ]
    },
    {
      "cell_type": "markdown",
      "metadata": {
        "colab_type": "text",
        "id": "jAtgSZkkhU8u"
      },
      "source": [
        "Create tensors to store neuron parameters (i.e., weight matrix `W`, bias vector `b`) and initialize them with starting values: "
      ]
    },
    {
      "cell_type": "code",
      "execution_count": 13,
      "metadata": {
        "colab": {},
        "colab_type": "code",
        "id": "Xz8ho_F8hU8u"
      },
      "outputs": [],
      "source": [
        "b = torch.zeros(n_dense)"
      ]
    },
    {
      "cell_type": "code",
      "execution_count": 14,
      "metadata": {
        "colab": {},
        "colab_type": "code",
        "id": "fLNQg0SehU8x",
        "outputId": "d15a2afd-461d-43cb-d5d8-48ed605de798"
      },
      "outputs": [
        {
          "data": {
            "text/plain": [
              "torch.Size([128])"
            ]
          },
          "execution_count": 14,
          "metadata": {},
          "output_type": "execute_result"
        }
      ],
      "source": [
        "b.shape"
      ]
    },
    {
      "cell_type": "code",
      "execution_count": 15,
      "metadata": {
        "colab": {},
        "colab_type": "code",
        "id": "n2IamD5phU8z",
        "outputId": "98137b49-5eff-4cb3-9f14-3c5f39bc7d62"
      },
      "outputs": [
        {
          "data": {
            "text/plain": [
              "tensor([0., 0., 0., 0., 0., 0.])"
            ]
          },
          "execution_count": 15,
          "metadata": {},
          "output_type": "execute_result"
        }
      ],
      "source": [
        "b[0:6]"
      ]
    },
    {
      "cell_type": "code",
      "execution_count": 16,
      "metadata": {
        "colab": {},
        "colab_type": "code",
        "id": "2pbT93JshU81"
      },
      "outputs": [],
      "source": [
        "W = torch.empty([n_input, n_dense])\n",
        "W = torch.nn.init.xavier_normal_(W)"
      ]
    },
    {
      "cell_type": "code",
      "execution_count": 17,
      "metadata": {
        "colab": {},
        "colab_type": "code",
        "id": "WJResuyMhU84",
        "outputId": "96f028ec-0761-4eee-d187-5e31d4d0a496"
      },
      "outputs": [
        {
          "data": {
            "text/plain": [
              "torch.Size([784, 128])"
            ]
          },
          "execution_count": 17,
          "metadata": {},
          "output_type": "execute_result"
        }
      ],
      "source": [
        "W.shape"
      ]
    },
    {
      "cell_type": "code",
      "execution_count": 18,
      "metadata": {
        "colab": {},
        "colab_type": "code",
        "id": "48_BVbr2hU87",
        "outputId": "95f3fb25-a6fd-487f-bd7f-593dea237bd7"
      },
      "outputs": [
        {
          "data": {
            "text/plain": [
              "tensor([[ 0.0008,  0.0038,  0.0349,  0.0630],\n",
              "        [ 0.0872, -0.0505,  0.0414, -0.0391],\n",
              "        [-0.0162, -0.0056,  0.0555, -0.0571],\n",
              "        [ 0.0050, -0.0144,  0.0405, -0.0499]])"
            ]
          },
          "execution_count": 18,
          "metadata": {},
          "output_type": "execute_result"
        }
      ],
      "source": [
        "W[0:4, 0:4]"
      ]
    },
    {
      "cell_type": "markdown",
      "metadata": {
        "colab_type": "text",
        "id": "tfQC0hb7hU89"
      },
      "source": [
        "Pass the \"input image\" `x` through a *dense* neuron layer with a *sigmoid activation function* to output the vector tensor `a`, which contains one element per neuron: "
      ]
    },
    {
      "cell_type": "code",
      "execution_count": 19,
      "metadata": {
        "colab": {},
        "colab_type": "code",
        "id": "QIsGHaKfhU89"
      },
      "outputs": [],
      "source": [
        "z = torch.add(torch.matmul(x, W), b)"
      ]
    },
    {
      "cell_type": "code",
      "execution_count": 20,
      "metadata": {
        "colab": {},
        "colab_type": "code",
        "id": "ZklBDX1OhU8_"
      },
      "outputs": [],
      "source": [
        "a = torch.sigmoid(z)"
      ]
    },
    {
      "cell_type": "code",
      "execution_count": 21,
      "metadata": {
        "colab": {},
        "colab_type": "code",
        "id": "QCI3pZwthU9B",
        "outputId": "e5e2506c-14b4-4959-df4f-e6a97408558b"
      },
      "outputs": [
        {
          "data": {
            "text/plain": [
              "torch.Size([128])"
            ]
          },
          "execution_count": 21,
          "metadata": {},
          "output_type": "execute_result"
        }
      ],
      "source": [
        "a.shape"
      ]
    },
    {
      "cell_type": "code",
      "execution_count": 22,
      "metadata": {
        "colab": {},
        "colab_type": "code",
        "id": "zUIWCKjxhU9E",
        "outputId": "d7343ff1-9caf-4194-8632-c81b524949d4"
      },
      "outputs": [
        {
          "data": {
            "image/png": "[encoded data removed]",
            "text/plain": [
              "<Figure size 640x480 with 1 Axes>"
            ]
          },
          "metadata": {},
          "output_type": "display_data"
        }
      ],
      "source": [
        "_ = plt.hist(a)"
      ]
    }
  ],
  "metadata": {
    "colab": {
      "include_colab_link": true,
      "name": "artificial-neurons.ipynb",
      "provenance": []
    },
    "kernelspec": {
      "display_name": "Python 3.9.13 ('base')",
      "language": "python",
      "name": "python3"
    },
    "language_info": {
      "codemirror_mode": {
        "name": "ipython",
        "version": 3
      },
      "file_extension": ".py",
      "mimetype": "text/x-python",
      "name": "python",
      "nbconvert_exporter": "python",
      "pygments_lexer": "ipython3",
      "version": "3.9.13"
    },
    "vscode": {
      "interpreter": {
        "hash": "3cfd106f785ae1e288da74ae733f9b47f8a2699db986927140be0bc196406f4c"
      }
    }
  },
  "nbformat": 4,
  "nbformat_minor": 0
}
